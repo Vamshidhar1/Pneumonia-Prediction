{
 "cells": [
  {
   "cell_type": "markdown",
   "metadata": {},
   "source": [
    "# Importing the libraries"
   ]
  },
  {
   "cell_type": "code",
   "execution_count": 1,
   "metadata": {
    "scrolled": true
   },
   "outputs": [],
   "source": [
    "import keras\n",
    "from keras.models import Sequential\n",
    "from keras.layers import Dense\n",
    "from keras.layers import Conv2D\n",
    "from keras.layers import MaxPool2D\n",
    "from keras.layers import Flatten\n",
    "import matplotlib.pyplot as plt"
   ]
  },
  {
   "cell_type": "markdown",
   "metadata": {},
   "source": [
    "# Building the neural network architecture"
   ]
  },
  {
   "cell_type": "code",
   "execution_count": 2,
   "metadata": {},
   "outputs": [],
   "source": [
    "model = Sequential()"
   ]
  },
  {
   "cell_type": "code",
   "execution_count": 3,
   "metadata": {},
   "outputs": [],
   "source": [
    "model.add(Conv2D(32, (3,3), strides=(1,1), input_shape=(64,64,3), activation=\"relu\"))"
   ]
  },
  {
   "cell_type": "code",
   "execution_count": 4,
   "metadata": {},
   "outputs": [],
   "source": [
    "model.add(Conv2D(32, (3,3), strides=(1,1), input_shape=(64,64,3), activation=\"relu\"))"
   ]
  },
  {
   "cell_type": "code",
   "execution_count": 5,
   "metadata": {},
   "outputs": [],
   "source": [
    "model.add(MaxPool2D(pool_size=(2,2), strides=(1,1)))"
   ]
  },
  {
   "cell_type": "code",
   "execution_count": 6,
   "metadata": {},
   "outputs": [],
   "source": [
    "model.add(Conv2D(64, (3,3), strides=(1,1), input_shape=(64,64,3), activation=\"relu\"))"
   ]
  },
  {
   "cell_type": "code",
   "execution_count": 7,
   "metadata": {},
   "outputs": [],
   "source": [
    "model.add(Conv2D(64, (3,3), strides=(1,1), input_shape=(64,64,3), activation=\"relu\"))"
   ]
  },
  {
   "cell_type": "code",
   "execution_count": 8,
   "metadata": {},
   "outputs": [],
   "source": [
    "model.add(MaxPool2D(pool_size=(2,2), strides=(1,1)))"
   ]
  },
  {
   "cell_type": "code",
   "execution_count": 9,
   "metadata": {},
   "outputs": [],
   "source": [
    "model.add(Flatten())"
   ]
  },
  {
   "cell_type": "code",
   "execution_count": 10,
   "metadata": {},
   "outputs": [],
   "source": [
    "model.add(Dense(kernel_initializer=\"random_uniform\", activation=\"relu\", units=300))"
   ]
  },
  {
   "cell_type": "code",
   "execution_count": 11,
   "metadata": {},
   "outputs": [],
   "source": [
    "model.add(Dense(kernel_initializer=\"random_uniform\", activation=\"relu\", units=300))"
   ]
  },
  {
   "cell_type": "code",
   "execution_count": 12,
   "metadata": {},
   "outputs": [],
   "source": [
    "model.add(Dense(kernel_initializer=\"random_uniform\", activation=\"sigmoid\", units=1))"
   ]
  },
  {
   "cell_type": "code",
   "execution_count": 13,
   "metadata": {},
   "outputs": [],
   "source": [
    "model.compile(loss=\"binary_crossentropy\", optimizer=\"adam\", metrics=[\"accuracy\"])"
   ]
  },
  {
   "cell_type": "code",
   "execution_count": 14,
   "metadata": {},
   "outputs": [
    {
     "name": "stdout",
     "output_type": "stream",
     "text": [
      "Model: \"sequential\"\n",
      "_________________________________________________________________\n",
      "Layer (type)                 Output Shape              Param #   \n",
      "=================================================================\n",
      "conv2d (Conv2D)              (None, 62, 62, 32)        896       \n",
      "_________________________________________________________________\n",
      "conv2d_1 (Conv2D)            (None, 60, 60, 32)        9248      \n",
      "_________________________________________________________________\n",
      "max_pooling2d (MaxPooling2D) (None, 59, 59, 32)        0         \n",
      "_________________________________________________________________\n",
      "conv2d_2 (Conv2D)            (None, 57, 57, 64)        18496     \n",
      "_________________________________________________________________\n",
      "conv2d_3 (Conv2D)            (None, 55, 55, 64)        36928     \n",
      "_________________________________________________________________\n",
      "max_pooling2d_1 (MaxPooling2 (None, 54, 54, 64)        0         \n",
      "_________________________________________________________________\n",
      "flatten (Flatten)            (None, 186624)            0         \n",
      "_________________________________________________________________\n",
      "dense (Dense)                (None, 300)               55987500  \n",
      "_________________________________________________________________\n",
      "dense_1 (Dense)              (None, 300)               90300     \n",
      "_________________________________________________________________\n",
      "dense_2 (Dense)              (None, 1)                 301       \n",
      "=================================================================\n",
      "Total params: 56,143,669\n",
      "Trainable params: 56,143,669\n",
      "Non-trainable params: 0\n",
      "_________________________________________________________________\n"
     ]
    }
   ],
   "source": [
    "model.summary()"
   ]
  },
  {
   "cell_type": "markdown",
   "metadata": {},
   "source": [
    "# Importing The Images"
   ]
  },
  {
   "cell_type": "code",
   "execution_count": 15,
   "metadata": {},
   "outputs": [],
   "source": [
    "from keras.preprocessing.image import ImageDataGenerator"
   ]
  },
  {
   "cell_type": "code",
   "execution_count": 16,
   "metadata": {},
   "outputs": [],
   "source": [
    "train_data = ImageDataGenerator(rescale=1./255, shear_range=0.2,zoom_range=0.2,width_shift_range=0.1,height_shift_range=0.1)"
   ]
  },
  {
   "cell_type": "code",
   "execution_count": 17,
   "metadata": {},
   "outputs": [],
   "source": [
    "test_data = ImageDataGenerator(rescale=1./255)"
   ]
  },
  {
   "cell_type": "code",
   "execution_count": 18,
   "metadata": {},
   "outputs": [
    {
     "name": "stdout",
     "output_type": "stream",
     "text": [
      "Found 5232 images belonging to 2 classes.\n"
     ]
    }
   ],
   "source": [
    "x_train = train_data.flow_from_directory(r\"D:\\DATA SCIENCE\\Datasets\\chest_xray\\train\", target_size=(64,64), batch_size=32, \n",
    "                                                                     color_mode=\"rgb\",class_mode=\"binary\")"
   ]
  },
  {
   "cell_type": "code",
   "execution_count": 19,
   "metadata": {},
   "outputs": [
    {
     "name": "stdout",
     "output_type": "stream",
     "text": [
      "Found 624 images belonging to 2 classes.\n"
     ]
    }
   ],
   "source": [
    "x_test = test_data.flow_from_directory(r\"D:\\DATA SCIENCE\\Datasets\\chest_xray\\test\", target_size=(64,64), batch_size=32, \n",
    "                                                                   color_mode=\"rgb\", class_mode=\"binary\")"
   ]
  },
  {
   "cell_type": "code",
   "execution_count": 20,
   "metadata": {},
   "outputs": [
    {
     "data": {
      "text/plain": [
       "{'NORMAL': 0, 'PNEUMONIA': 1}"
      ]
     },
     "execution_count": 20,
     "metadata": {},
     "output_type": "execute_result"
    }
   ],
   "source": [
    "x_train.class_indices"
   ]
  },
  {
   "cell_type": "code",
   "execution_count": 21,
   "metadata": {},
   "outputs": [
    {
     "data": {
      "text/plain": [
       "{'NORMAL': 0, 'PNEUMONIA': 1}"
      ]
     },
     "execution_count": 21,
     "metadata": {},
     "output_type": "execute_result"
    }
   ],
   "source": [
    "x_test.class_indices"
   ]
  },
  {
   "cell_type": "markdown",
   "metadata": {},
   "source": [
    "# Visualizing the images"
   ]
  },
  {
   "cell_type": "code",
   "execution_count": 22,
   "metadata": {},
   "outputs": [
    {
     "data": {
      "image/png": "[encoded data removed]",
      "text/plain": [
       "<Figure size 432x288 with 9 Axes>"
      ]
     },
     "metadata": {
      "needs_background": "light"
     },
     "output_type": "display_data"
    }
   ],
   "source": [
    "for i, image in enumerate(x_train,1):\n",
    "    if i==10:\n",
    "        break\n",
    "    plt.subplot(4,3,i)\n",
    "    plt.imshow(image[0][0])"
   ]
  },
  {
   "cell_type": "code",
   "execution_count": null,
   "metadata": {},
   "outputs": [],
   "source": []
  },
  {
   "cell_type": "code",
   "execution_count": 23,
   "metadata": {},
   "outputs": [
    {
     "data": {
      "text/plain": [
       "164"
      ]
     },
     "execution_count": 23,
     "metadata": {},
     "output_type": "execute_result"
    }
   ],
   "source": [
    "len(x_train)"
   ]
  },
  {
   "cell_type": "code",
   "execution_count": 24,
   "metadata": {},
   "outputs": [
    {
     "data": {
      "text/plain": [
       "20"
      ]
     },
     "execution_count": 24,
     "metadata": {},
     "output_type": "execute_result"
    }
   ],
   "source": [
    "len(x_test)"
   ]
  },
  {
   "cell_type": "markdown",
   "metadata": {},
   "source": [
    "# Fitting the model"
   ]
  },
  {
   "cell_type": "code",
   "execution_count": 25,
   "metadata": {},
   "outputs": [
    {
     "name": "stdout",
     "output_type": "stream",
     "text": [
      "Epoch 1/20\n",
      "164/164 [==============================] - 284s 2s/step - loss: 0.4489 - accuracy: 0.7997 - val_loss: 0.4585 - val_accuracy: 0.7580\n",
      "Epoch 2/20\n",
      "164/164 [==============================] - 280s 2s/step - loss: 0.3095 - accuracy: 0.8702 - val_loss: 0.3740 - val_accuracy: 0.8237\n",
      "Epoch 3/20\n",
      "164/164 [==============================] - 289s 2s/step - loss: 0.2784 - accuracy: 0.8821 - val_loss: 0.3887 - val_accuracy: 0.8109\n",
      "Epoch 4/20\n",
      "164/164 [==============================] - 242s 1s/step - loss: 0.2383 - accuracy: 0.8974 - val_loss: 0.4423 - val_accuracy: 0.8301\n",
      "Epoch 5/20\n",
      "164/164 [==============================] - 219s 1s/step - loss: 0.2177 - accuracy: 0.9077 - val_loss: 0.2599 - val_accuracy: 0.8990\n",
      "Epoch 6/20\n",
      "164/164 [==============================] - 258s 2s/step - loss: 0.1965 - accuracy: 0.9138 - val_loss: 0.3940 - val_accuracy: 0.8638\n",
      "Epoch 7/20\n",
      "164/164 [==============================] - 269s 2s/step - loss: 0.2010 - accuracy: 0.9148 - val_loss: 0.2904 - val_accuracy: 0.8894\n",
      "Epoch 8/20\n",
      "164/164 [==============================] - 227s 1s/step - loss: 0.1917 - accuracy: 0.9235 - val_loss: 0.2594 - val_accuracy: 0.9071\n",
      "Epoch 9/20\n",
      "164/164 [==============================] - 202s 1s/step - loss: 0.1843 - accuracy: 0.9230 - val_loss: 0.2597 - val_accuracy: 0.9038\n",
      "Epoch 10/20\n",
      "164/164 [==============================] - 202s 1s/step - loss: 0.1754 - accuracy: 0.9300 - val_loss: 0.2604 - val_accuracy: 0.9071\n",
      "Epoch 11/20\n",
      "164/164 [==============================] - 203s 1s/step - loss: 0.1766 - accuracy: 0.9308 - val_loss: 0.2536 - val_accuracy: 0.9199\n",
      "Epoch 12/20\n",
      "164/164 [==============================] - 204s 1s/step - loss: 0.1595 - accuracy: 0.9377 - val_loss: 0.4840 - val_accuracy: 0.8157\n",
      "Epoch 13/20\n",
      "164/164 [==============================] - 203s 1s/step - loss: 0.1597 - accuracy: 0.9373 - val_loss: 0.2788 - val_accuracy: 0.8958\n",
      "Epoch 14/20\n",
      "164/164 [==============================] - 203s 1s/step - loss: 0.1468 - accuracy: 0.9463 - val_loss: 0.2667 - val_accuracy: 0.8942\n",
      "Epoch 15/20\n",
      "164/164 [==============================] - 203s 1s/step - loss: 0.1479 - accuracy: 0.9432 - val_loss: 0.2192 - val_accuracy: 0.9167\n",
      "Epoch 16/20\n",
      "164/164 [==============================] - 209s 1s/step - loss: 0.1476 - accuracy: 0.9407 - val_loss: 0.2501 - val_accuracy: 0.9022\n",
      "Epoch 17/20\n",
      "164/164 [==============================] - 207s 1s/step - loss: 0.1457 - accuracy: 0.9432 - val_loss: 0.3156 - val_accuracy: 0.8974\n",
      "Epoch 18/20\n",
      "164/164 [==============================] - 203s 1s/step - loss: 0.1385 - accuracy: 0.9455 - val_loss: 0.4741 - val_accuracy: 0.8237\n",
      "Epoch 19/20\n",
      "164/164 [==============================] - 204s 1s/step - loss: 0.1287 - accuracy: 0.9505 - val_loss: 0.3540 - val_accuracy: 0.8638\n",
      "Epoch 20/20\n",
      "164/164 [==============================] - 203s 1s/step - loss: 0.1303 - accuracy: 0.9494 - val_loss: 0.2640 - val_accuracy: 0.9087\n"
     ]
    },
    {
     "data": {
      "text/plain": [
       "<tensorflow.python.keras.callbacks.History at 0x21929f1cd88>"
      ]
     },
     "execution_count": 25,
     "metadata": {},
     "output_type": "execute_result"
    }
   ],
   "source": [
    "model.fit(x_train, steps_per_epoch=164, epochs=20, validation_data=x_test, validation_steps=20)"
   ]
  },
  {
   "cell_type": "markdown",
   "metadata": {},
   "source": [
    "# Saving the model"
   ]
  },
  {
   "cell_type": "code",
   "execution_count": 26,
   "metadata": {},
   "outputs": [],
   "source": [
    "model.save(\"PNEUMONIA_1.h5\")"
   ]
  },
  {
   "cell_type": "code",
   "execution_count": null,
   "metadata": {},
   "outputs": [],
   "source": []
  }
 ],
 "metadata": {
  "kernelspec": {
   "display_name": "Python 3",
   "language": "python",
   "name": "python3"
  },
  "language_info": {
   "codemirror_mode": {
    "name": "ipython",
    "version": 3
   },
   "file_extension": ".py",
   "mimetype": "text/x-python",
   "name": "python",
   "nbconvert_exporter": "python",
   "pygments_lexer": "ipython3",
   "version": "3.7.6"
  }
 },
 "nbformat": 4,
 "nbformat_minor": 4
}
